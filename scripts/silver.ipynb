{
 "cells": [
  {
   "cell_type": "code",
   "execution_count": 0,
   "metadata": {
    "application/vnd.databricks.v1+cell": {
     "cellMetadata": {
      "byteLimit": 2048000,
      "rowLimit": 10000
     },
     "inputWidgets": {},
     "nuid": "8bbd0e7b-caa6-4ea4-ba9a-c451edc47fa7",
     "showTitle": false,
     "tableResultSettingsMap": {},
     "title": ""
    }
   },
   "outputs": [],
   "source": [
    "from pyspark.sql.functions import *"
   ]
  },
  {
   "cell_type": "code",
   "execution_count": 0,
   "metadata": {
    "application/vnd.databricks.v1+cell": {
     "cellMetadata": {
      "byteLimit": 2048000,
      "rowLimit": 10000
     },
     "inputWidgets": {},
     "nuid": "e19acee2-5038-41f6-8852-cb88c618a305",
     "showTitle": false,
     "tableResultSettingsMap": {},
     "title": ""
    }
   },
   "outputs": [],
   "source": [
    "df_bronze=spark.table(\"nyc_taxi.nyc_schema.bronze\")"
   ]
  },
  {
   "cell_type": "code",
   "execution_count": 0,
   "metadata": {
    "application/vnd.databricks.v1+cell": {
     "cellMetadata": {
      "byteLimit": 2048000,
      "rowLimit": 10000
     },
     "inputWidgets": {},
     "nuid": "f10aefdc-f826-473c-b63b-3d6abaa4a2ae",
     "showTitle": false,
     "tableResultSettingsMap": {},
     "title": ""
    }
   },
   "outputs": [],
   "source": [
    "df_bronze.select([sum(when(col(c).isNull(), 1).otherwise(0)).alias(c+'_null_count') for c in df_bronze.columns]).display()"
   ]
  },
  {
   "cell_type": "code",
   "execution_count": 0,
   "metadata": {
    "application/vnd.databricks.v1+cell": {
     "cellMetadata": {
      "byteLimit": 2048000,
      "rowLimit": 10000
     },
     "inputWidgets": {},
     "nuid": "3b08cd4b-7d47-49fd-b899-b3e678c7100d",
     "showTitle": false,
     "tableResultSettingsMap": {},
     "title": ""
    }
   },
   "outputs": [],
   "source": [
    "# dropping nulls\n",
    "df_silver=df_bronze.drop('ehail_fee')\n",
    "essential_cols=[\n",
    "    \"lpep_pickup_datetime\",\n",
    "    \"lpep_dropoff_datetime\",\n",
    "    \"trip_distance\",\n",
    "    \"fare_amount\",\n",
    "    \"total_amount\"\n",
    "]\n",
    "df_silver=df_silver.dropna(subset=essential_cols)"
   ]
  },
  {
   "cell_type": "code",
   "execution_count": 0,
   "metadata": {
    "application/vnd.databricks.v1+cell": {
     "cellMetadata": {
      "byteLimit": 2048000,
      "rowLimit": 10000
     },
     "inputWidgets": {},
     "nuid": "75a6f1e1-d3d6-444f-bfa4-eaa7f86a1437",
     "showTitle": false,
     "tableResultSettingsMap": {},
     "title": ""
    }
   },
   "outputs": [],
   "source": [
    "print(df_silver.count(),df_bronze.count())"
   ]
  },
  {
   "cell_type": "code",
   "execution_count": 0,
   "metadata": {
    "application/vnd.databricks.v1+cell": {
     "cellMetadata": {
      "byteLimit": 2048000,
      "rowLimit": 10000
     },
     "inputWidgets": {},
     "nuid": "82e5c3da-b390-4d04-81c7-dc08f035e95e",
     "showTitle": false,
     "tableResultSettingsMap": {},
     "title": ""
    }
   },
   "outputs": [],
   "source": [
    "# filter invalid rows\n",
    "df_silver=df_silver.filter(col(\"trip_distance\")>0)\\\n",
    "    .filter(col('fare_amount')>0)\\\n",
    "    .filter(col('total_amount')>0)\\\n",
    "    .filter(col('lpep_pickup_datetime')< col('lpep_dropoff_datetime'))\n",
    "df_silver.count()"
   ]
  },
  {
   "cell_type": "code",
   "execution_count": 0,
   "metadata": {
    "application/vnd.databricks.v1+cell": {
     "cellMetadata": {
      "byteLimit": 2048000,
      "rowLimit": 10000
     },
     "inputWidgets": {},
     "nuid": "61c92e1b-d9a3-4b5b-8d10-6161b04debeb",
     "showTitle": false,
     "tableResultSettingsMap": {},
     "title": ""
    }
   },
   "outputs": [],
   "source": [
    "df_silver.display(5)"
   ]
  },
  {
   "cell_type": "code",
   "execution_count": 0,
   "metadata": {
    "application/vnd.databricks.v1+cell": {
     "cellMetadata": {
      "byteLimit": 2048000,
      "rowLimit": 10000
     },
     "inputWidgets": {},
     "nuid": "4a506411-ca27-4524-abf7-d8c0be9d11af",
     "showTitle": false,
     "tableResultSettingsMap": {},
     "title": ""
    }
   },
   "outputs": [],
   "source": [
    "# Type Casting and Enrichment\n",
    "df_silver = df_silver.withColumn(\"pickup_date\", to_date(\"lpep_pickup_datetime\")) \\\n",
    "    .withColumn(\"pickup_hour\", hour(\"lpep_pickup_datetime\")) \\\n",
    "    .withColumn(\"trip_duration_minutes\",\n",
    "        (unix_timestamp(\"lpep_dropoff_datetime\") - unix_timestamp(\"lpep_pickup_datetime\")) / 60\n",
    "    ) \\\n",
    "    .withColumn(\"fare_per_mile\", round(col(\"fare_amount\") / col(\"trip_distance\"), 2)) \\\n",
    "    .withColumn(\"tip_percent\", round(col(\"tip_amount\") / col(\"fare_amount\"), 2))\n",
    "\n",
    "df_silver.select(\"pickup_date\",\"pickup_hour\",\"trip_duration_minutes\",\"fare_per_mile\",\"tip_percent\").take(5)"
   ]
  },
  {
   "cell_type": "code",
   "execution_count": 0,
   "metadata": {
    "application/vnd.databricks.v1+cell": {
     "cellMetadata": {
      "byteLimit": 2048000,
      "rowLimit": 10000
     },
     "inputWidgets": {},
     "nuid": "d7028671-8f37-4a6b-8a2b-c7b0a025c1ac",
     "showTitle": false,
     "tableResultSettingsMap": {},
     "title": ""
    }
   },
   "outputs": [],
   "source": [
    "df_silver.show(3)"
   ]
  },
  {
   "cell_type": "code",
   "execution_count": 0,
   "metadata": {
    "application/vnd.databricks.v1+cell": {
     "cellMetadata": {
      "byteLimit": 2048000,
      "rowLimit": 10000
     },
     "inputWidgets": {},
     "nuid": "de0d7219-2ecc-4276-b60d-0e3a9b791cfd",
     "showTitle": false,
     "tableResultSettingsMap": {},
     "title": ""
    }
   },
   "outputs": [],
   "source": [
    "#adding time based flags\n",
    "df_silver=df_silver.withColumn(\"day_of_week\",dayofweek('lpep_pickup_datetime'))\\\n",
    "    .withColumn(\"is_weekend\",when(col(\"day_of_week\").isin(1,7),True).otherwise(False))"
   ]
  },
  {
   "cell_type": "code",
   "execution_count": 0,
   "metadata": {
    "application/vnd.databricks.v1+cell": {
     "cellMetadata": {
      "byteLimit": 2048000,
      "rowLimit": 10000
     },
     "inputWidgets": {},
     "nuid": "f9a5dfbc-4a0b-4706-92ac-797f3ecdb310",
     "showTitle": false,
     "tableResultSettingsMap": {},
     "title": ""
    }
   },
   "outputs": [],
   "source": [
    "# adding metadata :processing date\n",
    "df_silver=df_silver.withColumn(\"processing_date\",current_date())"
   ]
  },
  {
   "cell_type": "code",
   "execution_count": 0,
   "metadata": {
    "application/vnd.databricks.v1+cell": {
     "cellMetadata": {
      "byteLimit": 2048000,
      "rowLimit": 10000
     },
     "inputWidgets": {},
     "nuid": "b84ecb18-963d-4a2f-b902-7bede48bf01b",
     "showTitle": false,
     "tableResultSettingsMap": {},
     "title": ""
    }
   },
   "outputs": [],
   "source": [
    "# column reordering\n",
    "final_col_order = [\n",
    "    \"VendorID\", \"lpep_pickup_datetime\", \"lpep_dropoff_datetime\", \"pickup_date\", \"pickup_hour\",\"day_of_week\", \"is_weekend\", \"store_and_fwd_flag\", \"RatecodeID\", \"PULocationID\", \"DOLocationID\",\"passenger_count\", \"trip_distance\", \"trip_duration_minutes\", \"fare_amount\", \"tip_amount\",\"tip_percent\", \"tolls_amount\", \"extra\", \"mta_tax\", \"improvement_surcharge\",\n",
    "    \"congestion_surcharge\",\"total_amount\", \"fare_per_mile\", \"payment_type\", \"trip_type\", \"ingestion_date\", \"source_file\", \"processing_date\"\n",
    "]\n",
    "\n",
    "df_silver = df_silver.select(final_col_order)"
   ]
  },
  {
   "cell_type": "code",
   "execution_count": 0,
   "metadata": {
    "application/vnd.databricks.v1+cell": {
     "cellMetadata": {
      "byteLimit": 2048000,
      "rowLimit": 10000
     },
     "inputWidgets": {},
     "nuid": "64cab1b4-6769-4968-ac25-d928dea85eee",
     "showTitle": false,
     "tableResultSettingsMap": {},
     "title": ""
    }
   },
   "outputs": [],
   "source": [
    "# drop duplicates\n",
    "df_silver=df_silver.dropDuplicates()\n"
   ]
  },
  {
   "cell_type": "code",
   "execution_count": 0,
   "metadata": {
    "application/vnd.databricks.v1+cell": {
     "cellMetadata": {
      "byteLimit": 2048000,
      "rowLimit": 10000
     },
     "inputWidgets": {},
     "nuid": "dbbfb103-a1cf-401f-8b80-8515ae79d85c",
     "showTitle": false,
     "tableResultSettingsMap": {},
     "title": ""
    }
   },
   "outputs": [],
   "source": [
    "#SILVER LAYER VALIDATION \n",
    "from pyspark.sql.types import DoubleType, TimestampType, IntegerType, BooleanType, DateType, StringType\n",
    "\n",
    "# Schema Validation\n",
    "expected_schema = {\n",
    "    \"VendorID\": IntegerType(),\n",
    "    \"lpep_pickup_datetime\": TimestampType(),\n",
    "    \"lpep_dropoff_datetime\": TimestampType(),\n",
    "    \"pickup_date\": DateType(),\n",
    "    \"pickup_hour\": IntegerType(),\n",
    "    \"day_of_week\": IntegerType(),\n",
    "    \"is_weekend\": BooleanType(),\n",
    "    \"store_and_fwd_flag\": StringType(),\n",
    "    \"RatecodeID\": IntegerType(),\n",
    "    \"PULocationID\": IntegerType(),\n",
    "    \"DOLocationID\": IntegerType(),\n",
    "    \"passenger_count\": IntegerType(),\n",
    "    \"trip_distance\": DoubleType(),\n",
    "    \"trip_duration_minutes\": DoubleType(),\n",
    "    \"fare_amount\": DoubleType(),\n",
    "    \"tip_amount\": DoubleType(),\n",
    "    \"tip_percent\": DoubleType(),\n",
    "    \"tolls_amount\": DoubleType(),\n",
    "    \"extra\": DoubleType(),\n",
    "    \"mta_tax\": DoubleType(),\n",
    "    \"improvement_surcharge\": DoubleType(),\n",
    "    \"congestion_surcharge\": DoubleType(),\n",
    "    \"total_amount\": DoubleType(),\n",
    "    \"fare_per_mile\": DoubleType(),\n",
    "    \"payment_type\": IntegerType(),\n",
    "    \"trip_type\": IntegerType(),\n",
    "    \"ingestion_date\": DateType(),\n",
    "    \"source_file\": StringType(),\n",
    "    \"processing_date\": DateType()\n",
    "}\n",
    "\n",
    "for col_name, expected_type in expected_schema.items():\n",
    "    actual_type = df_silver.schema[col_name].dataType\n",
    "    if not isinstance(actual_type, type(expected_type)):\n",
    "        print(f\"[SCHEMA MISMATCH] Column '{col_name}' expected {expected_type} but found {actual_type}\")\n",
    "\n",
    "# Null Check on essential fields\n",
    "essential_cols = [\"lpep_pickup_datetime\", \"lpep_dropoff_datetime\", \"trip_distance\", \"fare_amount\", \"total_amount\"]\n",
    "null_summary = df_silver.select([sum(when(col(c).isNull(), 1).otherwise(0)).alias(f\"{c}_nulls\") for c in essential_cols])\n",
    "null_summary.show()\n",
    "\n",
    "# Duplicate Check (based on natural keys)\n",
    "duplicate_check = df_silver.groupBy(\n",
    "    \"VendorID\", \"lpep_pickup_datetime\", \"DOLocationID\", \"PULocationID\"\n",
    ").count().filter(\"count > 1\")\n",
    "print(f\" Duplicate records count: {duplicate_check.count()}\")\n",
    "\n",
    "# Value Range Check\n",
    "df_silver.select(\"trip_distance\", \"fare_amount\", \"total_amount\").summary(\"min\", \"max\", \"mean\").show()\n"
   ]
  },
  {
   "cell_type": "code",
   "execution_count": 0,
   "metadata": {
    "application/vnd.databricks.v1+cell": {
     "cellMetadata": {
      "byteLimit": 2048000,
      "rowLimit": 10000
     },
     "inputWidgets": {},
     "nuid": "7df1532e-f1ea-4b7b-a6fc-e3c9715f39b4",
     "showTitle": false,
     "tableResultSettingsMap": {},
     "title": ""
    }
   },
   "outputs": [],
   "source": [
    "# casting \n",
    "df_silver = df_silver \\\n",
    "    .withColumn(\"RatecodeID\", col(\"RatecodeID\").cast(IntegerType())) \\\n",
    "    .withColumn(\"passenger_count\", col(\"passenger_count\").cast(IntegerType())) \\\n",
    "    .withColumn(\"payment_type\", col(\"payment_type\").cast(IntegerType())) \\\n",
    "    .withColumn(\"trip_type\", col(\"trip_type\").cast(IntegerType()))"
   ]
  },
  {
   "cell_type": "code",
   "execution_count": 0,
   "metadata": {
    "application/vnd.databricks.v1+cell": {
     "cellMetadata": {
      "byteLimit": 2048000,
      "rowLimit": 10000
     },
     "inputWidgets": {},
     "nuid": "6be2f6f4-98f8-43e3-90fe-d80288debc9d",
     "showTitle": false,
     "tableResultSettingsMap": {},
     "title": ""
    }
   },
   "outputs": [],
   "source": [
    "\n",
    "df_silver.write.format('delta').mode('overwrite').saveAsTable('nyc_taxi.nyc_schema.silver')"
   ]
  }
 ],
 "metadata": {
  "application/vnd.databricks.v1+notebook": {
   "computePreferences": null,
   "dashboards": [],
   "environmentMetadata": {
    "base_environment": "",
    "environment_version": "2"
   },
   "inputWidgetPreferences": null,
   "language": "python",
   "notebookMetadata": {
    "mostRecentlyExecutedCommandWithImplicitDF": {
     "commandId": 6541091112889284,
     "dataframes": [
      "_sqldf"
     ]
    },
    "pythonIndentUnit": 4
   },
   "notebookName": "silver",
   "widgets": {}
  },
  "language_info": {
   "name": "python"
  }
 },
 "nbformat": 4,
 "nbformat_minor": 0
}
