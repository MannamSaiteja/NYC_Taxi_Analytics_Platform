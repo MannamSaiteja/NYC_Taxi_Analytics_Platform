{
 "cells": [
  {
   "cell_type": "code",
   "execution_count": 0,
   "metadata": {
    "application/vnd.databricks.v1+cell": {
     "cellMetadata": {
      "byteLimit": 2048000,
      "rowLimit": 10000
     },
     "inputWidgets": {},
     "nuid": "8bbd0e7b-caa6-4ea4-ba9a-c451edc47fa7",
     "showTitle": false,
     "tableResultSettingsMap": {},
     "title": ""
    }
   },
   "outputs": [],
   "source": [
    "from pyspark.sql.functions import *"
   ]
  },
  {
   "cell_type": "code",
   "execution_count": 0,
   "metadata": {
    "application/vnd.databricks.v1+cell": {
     "cellMetadata": {
      "byteLimit": 2048000,
      "rowLimit": 10000
     },
     "inputWidgets": {},
     "nuid": "e19acee2-5038-41f6-8852-cb88c618a305",
     "showTitle": false,
     "tableResultSettingsMap": {},
     "title": ""
    }
   },
   "outputs": [],
   "source": [
    "df_bronze=spark.table(\"nyc_taxi.nyc_schema.bronze\")"
   ]
  },
  {
   "cell_type": "code",
   "execution_count": 0,
   "metadata": {
    "application/vnd.databricks.v1+cell": {
     "cellMetadata": {
      "byteLimit": 2048000,
      "rowLimit": 10000
     },
     "inputWidgets": {},
     "nuid": "f10aefdc-f826-473c-b63b-3d6abaa4a2ae",
     "showTitle": false,
     "tableResultSettingsMap": {},
     "title": ""
    }
   },
   "outputs": [],
   "source": [
    "df_bronze.select([sum(when(col(c).isNull(), 1).otherwise(0)).alias(c+'_null_count') for c in df_bronze.columns]).display()"
   ]
  },
  {
   "cell_type": "code",
   "execution_count": 0,
   "metadata": {
    "application/vnd.databricks.v1+cell": {
     "cellMetadata": {
      "byteLimit": 2048000,
      "rowLimit": 10000
     },
     "inputWidgets": {},
     "nuid": "3b08cd4b-7d47-49fd-b899-b3e678c7100d",
     "showTitle": false,
     "tableResultSettingsMap": {},
     "title": ""
    }
   },
   "outputs": [],
   "source": [
    "# dropping nulls\n",
    "df_silver=df_bronze.drop('ehail_fee')\n",
    "essential_cols=[\n",
    "    \"lpep_pickup_datetime\",\n",
    "    \"lpep_dropoff_datetime\",\n",
    "    \"trip_distance\",\n",
    "    \"fare_amount\",\n",
    "    \"total_amount\"\n",
    "]\n",
    "df_silver=df_silver.dropna(subset=essential_cols)"
   ]
  },
  {
   "cell_type": "code",
   "execution_count": 0,
   "metadata": {
    "application/vnd.databricks.v1+cell": {
     "cellMetadata": {
      "byteLimit": 2048000,
      "rowLimit": 10000
     },
     "inputWidgets": {},
     "nuid": "75a6f1e1-d3d6-444f-bfa4-eaa7f86a1437",
     "showTitle": false,
     "tableResultSettingsMap": {},
     "title": ""
    }
   },
   "outputs": [],
   "source": [
    "print(df_silver.count(),df_bronze.count())"
   ]
  },
  {
   "cell_type": "code",
   "execution_count": 0,
   "metadata": {
    "application/vnd.databricks.v1+cell": {
     "cellMetadata": {
      "byteLimit": 2048000,
      "rowLimit": 10000
     },
     "inputWidgets": {},
     "nuid": "82e5c3da-b390-4d04-81c7-dc08f035e95e",
     "showTitle": false,
     "tableResultSettingsMap": {},
     "title": ""
    }
   },
   "outputs": [],
   "source": [
    "# filter invalid rows\n",
    "df_silver=df_silver.filter(col(\"trip_distance\")>0)\\\n",
    "    .filter(col('fare_amount')>0)\\\n",
    "    .filter(col('total_amount')>0)\\\n",
    "    .filter(col('lpep_pickup_datetime')< col('lpep_dropoff_datetime'))\n",
    "df_silver.count()"
   ]
  },
  {
   "cell_type": "code",
   "execution_count": 0,
   "metadata": {
    "application/vnd.databricks.v1+cell": {
     "cellMetadata": {
      "byteLimit": 2048000,
      "rowLimit": 10000
     },
     "inputWidgets": {},
     "nuid": "61c92e1b-d9a3-4b5b-8d10-6161b04debeb",
     "showTitle": false,
     "tableResultSettingsMap": {},
     "title": ""
    }
   },
   "outputs": [],
   "source": [
    "df_silver.display(5)"
   ]
  },
  {
   "cell_type": "code",
   "execution_count": 0,
   "metadata": {
    "application/vnd.databricks.v1+cell": {
     "cellMetadata": {
      "byteLimit": 2048000,
      "rowLimit": 10000
     },
     "inputWidgets": {},
     "nuid": "4a506411-ca27-4524-abf7-d8c0be9d11af",
     "showTitle": false,
     "tableResultSettingsMap": {},
     "title": ""
    }
   },
   "outputs": [],
   "source": [
    "# Type Casting and Enrichment\n",
    "df_silver = df_silver.withColumn(\"pickup_date\", to_date(\"lpep_pickup_datetime\")) \\\n",
    "    .withColumn(\"pickup_hour\", hour(\"lpep_pickup_datetime\")) \\\n",
    "    .withColumn(\"trip_duration_minutes\",\n",
    "        (unix_timestamp(\"lpep_dropoff_datetime\") - unix_timestamp(\"lpep_pickup_datetime\")) / 60\n",
    "    ) \\\n",
    "    .withColumn(\"fare_per_mile\", round(col(\"fare_amount\") / col(\"trip_distance\"), 2)) \\\n",
    "    .withColumn(\"tip_percent\", round(col(\"tip_amount\") / col(\"fare_amount\"), 2))\n",
    "\n",
    "df_silver.select(\"pickup_date\",\"pickup_hour\",\"trip_duration_minutes\",\"fare_per_mile\",\"tip_percent\").take(5)"
   ]
  },
  {
   "cell_type": "code",
   "execution_count": 0,
   "metadata": {
    "application/vnd.databricks.v1+cell": {
     "cellMetadata": {
      "byteLimit": 2048000,
      "rowLimit": 10000
     },
     "inputWidgets": {},
     "nuid": "d7028671-8f37-4a6b-8a2b-c7b0a025c1ac",
     "showTitle": false,
     "tableResultSettingsMap": {},
     "title": ""
    }
   },
   "outputs": [],
   "source": [
    "df_silver.show(3)"
   ]
  },
  {
   "cell_type": "code",
   "execution_count": 0,
   "metadata": {
    "application/vnd.databricks.v1+cell": {
     "cellMetadata": {
      "byteLimit": 2048000,
      "rowLimit": 10000
     },
     "inputWidgets": {},
     "nuid": "de0d7219-2ecc-4276-b60d-0e3a9b791cfd",
     "showTitle": false,
     "tableResultSettingsMap": {},
     "title": ""
    }
   },
   "outputs": [],
   "source": [
    "#adding time based flags\n",
    "df_silver=df_silver.withColumn(\"day_of_week\",dayofweek('lpep_pickup_datetime'))\\\n",
    "    .withColumn(\"is_weekend\",when(col(\"day_of_week\").isin(1,7),True).otherwise(False))"
   ]
  },
  {
   "cell_type": "code",
   "execution_count": 0,
   "metadata": {
    "application/vnd.databricks.v1+cell": {
     "cellMetadata": {
      "byteLimit": 2048000,
      "rowLimit": 10000
     },
     "inputWidgets": {},
     "nuid": "f9a5dfbc-4a0b-4706-92ac-797f3ecdb310",
     "showTitle": false,
     "tableResultSettingsMap": {},
     "title": ""
    }
   },
   "outputs": [],
   "source": [
    "# adding metadata :processing date\n",
    "df_silver=df_silver.withColumn(\"processing_date\",current_date())"
   ]
  },
  {
   "cell_type": "code",
   "execution_count": 0,
   "metadata": {
    "application/vnd.databricks.v1+cell": {
     "cellMetadata": {
      "byteLimit": 2048000,
      "rowLimit": 10000
     },
     "inputWidgets": {},
     "nuid": "da6def22-eb81-4470-85b2-8147404c5fb5",
     "showTitle": false,
     "tableResultSettingsMap": {},
     "title": ""
    }
   },
   "outputs": [],
   "source": [
    "for field in df_silver.schema.fields:\n",
    "    print(f\"{field.name}: {field.dataType.simpleString()} (nullable={field.nullable})\")"
   ]
  },
  {
   "cell_type": "code",
   "execution_count": 0,
   "metadata": {
    "application/vnd.databricks.v1+cell": {
     "cellMetadata": {
      "byteLimit": 2048000,
      "rowLimit": 10000
     },
     "inputWidgets": {},
     "nuid": "b84ecb18-963d-4a2f-b902-7bede48bf01b",
     "showTitle": false,
     "tableResultSettingsMap": {},
     "title": ""
    }
   },
   "outputs": [],
   "source": [
    "# column reordering\n",
    "final_col_order = [\n",
    "    \"VendorID\", \"lpep_pickup_datetime\", \"lpep_dropoff_datetime\", \"pickup_date\", \"pickup_hour\",\"day_of_week\", \"is_weekend\", \"store_and_fwd_flag\", \"RatecodeID\", \"PULocationID\", \"DOLocationID\",\"passenger_count\", \"trip_distance\", \"trip_duration_minutes\", \"fare_amount\", \"tip_amount\",\"tip_percent\", \"tolls_amount\", \"extra\", \"mta_tax\", \"improvement_surcharge\",\n",
    "    \"congestion_surcharge\",\"total_amount\", \"fare_per_mile\", \"payment_type\", \"trip_type\", \"ingestion_date\", \"source_file\", \"processing_date\"\n",
    "]\n",
    "\n",
    "df_silver = df_silver.select(final_col_order)"
   ]
  },
  {
   "cell_type": "code",
   "execution_count": 0,
   "metadata": {
    "application/vnd.databricks.v1+cell": {
     "cellMetadata": {
      "byteLimit": 2048000,
      "rowLimit": 10000
     },
     "inputWidgets": {},
     "nuid": "64cab1b4-6769-4968-ac25-d928dea85eee",
     "showTitle": false,
     "tableResultSettingsMap": {},
     "title": ""
    }
   },
   "outputs": [],
   "source": [
    "# drop duplicates\n",
    "df_silver=df_silver.dropDuplicates()\n"
   ]
  },
  {
   "cell_type": "code",
   "execution_count": 0,
   "metadata": {
    "application/vnd.databricks.v1+cell": {
     "cellMetadata": {
      "byteLimit": 2048000,
      "rowLimit": 10000
     },
     "inputWidgets": {},
     "nuid": "6be2f6f4-98f8-43e3-90fe-d80288debc9d",
     "showTitle": false,
     "tableResultSettingsMap": {},
     "title": ""
    }
   },
   "outputs": [],
   "source": [
    "df_silver.write.format('delta').mode('overwrite').saveAsTable('nyc_taxi.nyc_schema.silver')"
   ]
  },
  {
   "cell_type": "code",
   "execution_count": 0,
   "metadata": {
    "application/vnd.databricks.v1+cell": {
     "cellMetadata": {
      "byteLimit": 2048000,
      "implicitDf": true,
      "rowLimit": 10000
     },
     "inputWidgets": {},
     "nuid": "b1a7350d-b0a9-4a4d-95da-6ed446a98a8d",
     "showTitle": false,
     "tableResultSettingsMap": {},
     "title": ""
    }
   },
   "outputs": [],
   "source": [
    "%sql\n",
    "select * from nyc_taxi.nyc_schema.silver limit 1"
   ]
  },
  {
   "cell_type": "code",
   "execution_count": 0,
   "metadata": {
    "application/vnd.databricks.v1+cell": {
     "cellMetadata": {
      "byteLimit": 2048000,
      "rowLimit": 10000
     },
     "inputWidgets": {},
     "nuid": "db109609-0f3d-4d2f-9ca4-124ba2d39f52",
     "showTitle": false,
     "tableResultSettingsMap": {},
     "title": ""
    }
   },
   "outputs": [],
   "source": [
    "# reading zone lookup dataset\n",
    "df_zone_lookup=spark.read.format('csv').option(\"header\", \"true\").option(\"inferSchema\", \"true\").load('/Volumes/nyc_taxi/nyc_schema/raw_zone/taxi_zone_lookup.csv')\n",
    "df_zone_lookup.show(5)"
   ]
  },
  {
   "cell_type": "code",
   "execution_count": 0,
   "metadata": {
    "application/vnd.databricks.v1+cell": {
     "cellMetadata": {
      "byteLimit": 2048000,
      "rowLimit": 10000
     },
     "inputWidgets": {},
     "nuid": "ed373758-5f7e-430b-a212-02508cf53f51",
     "showTitle": false,
     "tableResultSettingsMap": {},
     "title": ""
    }
   },
   "outputs": [],
   "source": [
    "df_zone_lookup.dtypes"
   ]
  },
  {
   "cell_type": "code",
   "execution_count": 0,
   "metadata": {
    "application/vnd.databricks.v1+cell": {
     "cellMetadata": {
      "byteLimit": 2048000,
      "rowLimit": 10000
     },
     "inputWidgets": {},
     "nuid": "68927eb8-f534-4e56-8018-680321a34497",
     "showTitle": false,
     "tableResultSettingsMap": {},
     "title": ""
    }
   },
   "outputs": [],
   "source": [
    "df_zone_lookup.select([sum(when(col(c).isNull(),1).otherwise(0)).alias(c+'_null_count') for c in df_zone_lookup.columns]).show()"
   ]
  },
  {
   "cell_type": "code",
   "execution_count": 0,
   "metadata": {
    "application/vnd.databricks.v1+cell": {
     "cellMetadata": {
      "byteLimit": 2048000,
      "rowLimit": 10000
     },
     "inputWidgets": {},
     "nuid": "f960eca2-2f17-48e2-9282-4d2a1faf420c",
     "showTitle": false,
     "tableResultSettingsMap": {},
     "title": ""
    }
   },
   "outputs": [],
   "source": [
    "for c in df_zone_lookup.columns:\n",
    "    print(f\"distinct values in column {c} are {df_zone_lookup.select(c).distinct().orderBy(c).show()}\")"
   ]
  },
  {
   "cell_type": "code",
   "execution_count": 0,
   "metadata": {
    "application/vnd.databricks.v1+cell": {
     "cellMetadata": {
      "byteLimit": 2048000,
      "rowLimit": 10000
     },
     "inputWidgets": {},
     "nuid": "823e0164-15a8-456b-b13b-86accadc091a",
     "showTitle": false,
     "tableResultSettingsMap": {},
     "title": ""
    }
   },
   "outputs": [],
   "source": [
    "df_zone_lookup.columns"
   ]
  },
  {
   "cell_type": "code",
   "execution_count": 0,
   "metadata": {
    "application/vnd.databricks.v1+cell": {
     "cellMetadata": {
      "byteLimit": 2048000,
      "rowLimit": 10000
     },
     "inputWidgets": {},
     "nuid": "7e2d0ec7-b4e1-4735-a378-50762f72d705",
     "showTitle": false,
     "tableResultSettingsMap": {},
     "title": ""
    }
   },
   "outputs": [],
   "source": [
    "df_zone_lookup.count()"
   ]
  },
  {
   "cell_type": "code",
   "execution_count": 0,
   "metadata": {
    "application/vnd.databricks.v1+cell": {
     "cellMetadata": {
      "byteLimit": 2048000,
      "rowLimit": 10000
     },
     "inputWidgets": {},
     "nuid": "7b139d04-5bfd-4be4-af2c-444fbe0b9862",
     "showTitle": false,
     "tableResultSettingsMap": {},
     "title": ""
    }
   },
   "outputs": [],
   "source": [
    "df_zone_lookup = df_zone_lookup \\\n",
    "    .withColumnRenamed(\"LocationID\", \"location_id\") \\\n",
    "    .withColumnRenamed(\"Borough\", \"borough\") \\\n",
    "    .withColumnRenamed(\"Zone\", \"zone\") \\\n",
    "    .withColumnRenamed(\"service_zone\", \"service_zone\")  "
   ]
  },
  {
   "cell_type": "code",
   "execution_count": 0,
   "metadata": {
    "application/vnd.databricks.v1+cell": {
     "cellMetadata": {
      "byteLimit": 2048000,
      "rowLimit": 10000
     },
     "inputWidgets": {},
     "nuid": "671800d1-912b-4c06-ba56-e9d5d88b84ca",
     "showTitle": false,
     "tableResultSettingsMap": {},
     "title": ""
    }
   },
   "outputs": [],
   "source": [
    "# checking for duplicates\n",
    "df_zone_lookup.groupBy('location_id').count().filter(col('count')>1).show()"
   ]
  },
  {
   "cell_type": "code",
   "execution_count": 0,
   "metadata": {
    "application/vnd.databricks.v1+cell": {
     "cellMetadata": {
      "byteLimit": 2048000,
      "rowLimit": 10000
     },
     "inputWidgets": {},
     "nuid": "e9eb8aa8-9844-4082-9a53-fd0bd42e3f39",
     "showTitle": false,
     "tableResultSettingsMap": {},
     "title": ""
    }
   },
   "outputs": [],
   "source": [
    "df_zone_lookup.write.format('delta').mode('overwrite').saveAsTable('nyc_taxi.nyc_schema.zone_lookup')"
   ]
  },
  {
   "cell_type": "code",
   "execution_count": 0,
   "metadata": {
    "application/vnd.databricks.v1+cell": {
     "cellMetadata": {
      "byteLimit": 2048000,
      "implicitDf": true,
      "rowLimit": 10000
     },
     "inputWidgets": {},
     "nuid": "4c752781-043e-4816-85f7-f086b98869e6",
     "showTitle": false,
     "tableResultSettingsMap": {},
     "title": ""
    }
   },
   "outputs": [],
   "source": [
    "%sql\n",
    "select * from nyc_taxi.nyc_schema.zone_lookup limit 3"
   ]
  },
  {
   "cell_type": "code",
   "execution_count": 0,
   "metadata": {
    "application/vnd.databricks.v1+cell": {
     "cellMetadata": {},
     "inputWidgets": {},
     "nuid": "07240c35-89e9-462c-a767-81dea9f2cc22",
     "showTitle": false,
     "tableResultSettingsMap": {},
     "title": ""
    }
   },
   "outputs": [],
   "source": []
  }
 ],
 "metadata": {
  "application/vnd.databricks.v1+notebook": {
   "computePreferences": null,
   "dashboards": [],
   "environmentMetadata": {
    "base_environment": "",
    "environment_version": "2"
   },
   "inputWidgetPreferences": null,
   "language": "python",
   "notebookMetadata": {
    "mostRecentlyExecutedCommandWithImplicitDF": {
     "commandId": 7229192501395648,
     "dataframes": [
      "_sqldf"
     ]
    },
    "pythonIndentUnit": 4
   },
   "notebookName": "silver",
   "widgets": {}
  },
  "language_info": {
   "name": "python"
  }
 },
 "nbformat": 4,
 "nbformat_minor": 0
}
