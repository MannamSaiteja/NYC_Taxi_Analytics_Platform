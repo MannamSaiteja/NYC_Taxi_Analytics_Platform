{
 "cells": [
  {
   "cell_type": "code",
   "execution_count": 0,
   "metadata": {
    "application/vnd.databricks.v1+cell": {
     "cellMetadata": {
      "byteLimit": 2048000,
      "rowLimit": 10000
     },
     "inputWidgets": {},
     "nuid": "176b644f-1fb8-439c-ac8e-cfe8f67d11af",
     "showTitle": false,
     "tableResultSettingsMap": {},
     "title": ""
    }
   },
   "outputs": [],
   "source": [
    "from pyspark.sql.functions import *"
   ]
  },
  {
   "cell_type": "code",
   "execution_count": 0,
   "metadata": {
    "application/vnd.databricks.v1+cell": {
     "cellMetadata": {
      "byteLimit": 2048000,
      "rowLimit": 10000
     },
     "inputWidgets": {},
     "nuid": "bd47fa25-a789-40d0-908e-0b19717dd13c",
     "showTitle": false,
     "tableResultSettingsMap": {},
     "title": ""
    }
   },
   "outputs": [],
   "source": [
    "df_silver = spark.read.table(\"nyc_taxi.nyc_schema.silver\")\n",
    "df_zone_lookup = spark.read.table(\"nyc_taxi.nyc_schema.zone_lookup\")"
   ]
  },
  {
   "cell_type": "code",
   "execution_count": 0,
   "metadata": {
    "application/vnd.databricks.v1+cell": {
     "cellMetadata": {
      "byteLimit": 2048000,
      "rowLimit": 10000
     },
     "inputWidgets": {},
     "nuid": "cc40d590-f304-4738-bae1-d9d751b9808c",
     "showTitle": false,
     "tableResultSettingsMap": {},
     "title": ""
    }
   },
   "outputs": [],
   "source": [
    "df_joined = df_silver.join(\n",
    "    broadcast(df_zone_lookup),\n",
    "    df_silver.PULocationID == df_zone_lookup.location_id,\n",
    "    how=\"left\"\n",
    ")"
   ]
  },
  {
   "cell_type": "code",
   "execution_count": 0,
   "metadata": {
    "application/vnd.databricks.v1+cell": {
     "cellMetadata": {
      "byteLimit": 2048000,
      "rowLimit": 10000
     },
     "inputWidgets": {},
     "nuid": "a9a4cef7-f577-499b-8629-b24e4148d1b4",
     "showTitle": false,
     "tableResultSettingsMap": {},
     "title": ""
    }
   },
   "outputs": [],
   "source": [
    "df_revenue_zone_hour = df_joined.groupBy(\n",
    "    \"pickup_date\", \"pickup_hour\", \"zone\"\n",
    ").agg(\n",
    "    count(\"*\").alias(\"trip_count\"),\n",
    "    round(sum(\"total_amount\"), 2).alias(\"total_revenue\"),\n",
    "    round(avg(\"total_amount\"), 2).alias(\"avg_revenue_per_trip\"),\n",
    "    round(avg(\"fare_per_mile\"), 2).alias(\"avg_fare_per_mile\")\n",
    ").orderBy(\"pickup_date\", \"pickup_hour\", \"zone\")\n",
    "\n",
    "display(df_revenue_zone_hour)"
   ]
  },
  {
   "cell_type": "code",
   "execution_count": 0,
   "metadata": {
    "application/vnd.databricks.v1+cell": {
     "cellMetadata": {
      "byteLimit": 2048000,
      "rowLimit": 10000
     },
     "inputWidgets": {},
     "nuid": "878d5683-2c7d-486f-9584-b2555c7902c1",
     "showTitle": false,
     "tableResultSettingsMap": {},
     "title": ""
    }
   },
   "outputs": [],
   "source": [
    "df_revenue_zone_hour.write.mode(\"overwrite\").saveAsTable(\"nyc_taxi.nyc_schema.revenue_zone_hour\")"
   ]
  },
  {
   "cell_type": "code",
   "execution_count": 0,
   "metadata": {
    "application/vnd.databricks.v1+cell": {
     "cellMetadata": {
      "byteLimit": 2048000,
      "implicitDf": true,
      "rowLimit": 10000
     },
     "inputWidgets": {},
     "nuid": "9278f9f1-6a36-4398-a1db-82e4d6b60d96",
     "showTitle": false,
     "tableResultSettingsMap": {},
     "title": ""
    }
   },
   "outputs": [],
   "source": [
    "%sql\n",
    "select count(*) from nyc_taxi.nyc_schema.revenue_zone_hour"
   ]
  }
 ],
 "metadata": {
  "application/vnd.databricks.v1+notebook": {
   "computePreferences": null,
   "dashboards": [],
   "environmentMetadata": {
    "base_environment": "",
    "environment_version": "2"
   },
   "inputWidgetPreferences": null,
   "language": "python",
   "notebookMetadata": {
    "mostRecentlyExecutedCommandWithImplicitDF": {
     "commandId": 7229192501395673,
     "dataframes": [
      "_sqldf"
     ]
    },
    "pythonIndentUnit": 4
   },
   "notebookName": "revenue_by_zone_hour",
   "widgets": {}
  },
  "language_info": {
   "name": "python"
  }
 },
 "nbformat": 4,
 "nbformat_minor": 0
}
