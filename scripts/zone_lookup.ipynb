{
 "cells": [
  {
   "cell_type": "code",
   "execution_count": 0,
   "metadata": {
    "application/vnd.databricks.v1+cell": {
     "cellMetadata": {
      "byteLimit": 2048000,
      "rowLimit": 10000
     },
     "inputWidgets": {},
     "nuid": "deb91a2a-5925-4ebd-b93d-58d66360e4c3",
     "showTitle": false,
     "tableResultSettingsMap": {},
     "title": ""
    }
   },
   "outputs": [],
   "source": [
    "# reading zone lookup dataset\n",
    "df_zone_lookup=spark.read.format('csv').option(\"header\", \"true\").option(\"inferSchema\", \"true\").load('/Volumes/nyc_taxi/nyc_schema/raw_zone/taxi_zone_lookup.csv')\n",
    "\n",
    "df_zone_lookup = df_zone_lookup \\\n",
    "    .withColumnRenamed(\"LocationID\", \"location_id\") \\\n",
    "    .withColumnRenamed(\"Borough\", \"borough\") \\\n",
    "    .withColumnRenamed(\"Zone\", \"zone\") \\\n",
    "    .withColumnRenamed(\"service_zone\", \"service_zone\")  \n",
    "\n",
    "df_zone_lookup.write.format('delta').mode('overwrite').saveAsTable('nyc_taxi.nyc_schema.zone_lookup')"
   ]
  }
 ],
 "metadata": {
  "application/vnd.databricks.v1+notebook": {
   "computePreferences": null,
   "dashboards": [],
   "environmentMetadata": {
    "base_environment": "",
    "environment_version": "2"
   },
   "inputWidgetPreferences": null,
   "language": "python",
   "notebookMetadata": {
    "pythonIndentUnit": 4
   },
   "notebookName": "zone_lookup",
   "widgets": {}
  },
  "language_info": {
   "name": "python"
  }
 },
 "nbformat": 4,
 "nbformat_minor": 0
}
