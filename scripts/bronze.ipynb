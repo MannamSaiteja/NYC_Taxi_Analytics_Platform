{
 "cells": [
  {
   "cell_type": "code",
   "execution_count": 0,
   "metadata": {
    "application/vnd.databricks.v1+cell": {
     "cellMetadata": {
      "byteLimit": 2048000,
      "rowLimit": 10000
     },
     "inputWidgets": {},
     "nuid": "833b92a0-ca44-4c1e-bdf5-cecb1633a8cb",
     "showTitle": false,
     "tableResultSettingsMap": {},
     "title": ""
    }
   },
   "outputs": [],
   "source": [
    "from pyspark.sql.functions import *"
   ]
  },
  {
   "cell_type": "code",
   "execution_count": 0,
   "metadata": {
    "application/vnd.databricks.v1+cell": {
     "cellMetadata": {
      "byteLimit": 2048000,
      "rowLimit": 10000
     },
     "inputWidgets": {},
     "nuid": "6322fd87-78ba-49d8-8421-425ec7eab04d",
     "showTitle": false,
     "tableResultSettingsMap": {},
     "title": ""
    }
   },
   "outputs": [],
   "source": [
    "#paths\n",
    "catalog='nyc_taxi'\n",
    "schema='nyc_schema'\n",
    "file_name=\"green_tripdata_2024-01.parquet\"\n",
    "\n",
    "raw_path=f'/Volumes/{catalog}/{schema}/raw_zone/{file_name}'\n",
    "bronze_path=f'/Volumes/{catalog}/{schema}/bronze_zone'"
   ]
  },
  {
   "cell_type": "code",
   "execution_count": 0,
   "metadata": {
    "application/vnd.databricks.v1+cell": {
     "cellMetadata": {
      "byteLimit": 2048000,
      "rowLimit": 10000
     },
     "inputWidgets": {},
     "nuid": "b7d22433-7373-4ac2-b59c-0374d1665b0b",
     "showTitle": false,
     "tableResultSettingsMap": {},
     "title": ""
    }
   },
   "outputs": [],
   "source": [
    "# reading raw data\n",
    "df_raw=spark.read.format('parquet').load(raw_path)\n",
    "display(df_raw)"
   ]
  },
  {
   "cell_type": "code",
   "execution_count": 0,
   "metadata": {
    "application/vnd.databricks.v1+cell": {
     "cellMetadata": {
      "byteLimit": 2048000,
      "rowLimit": 10000
     },
     "inputWidgets": {},
     "nuid": "478fe950-de2a-4eb7-9d8e-9035c65689cd",
     "showTitle": false,
     "tableResultSettingsMap": {},
     "title": ""
    }
   },
   "outputs": [],
   "source": [
    "# schema validation\n",
    "expected_cols=[ 'VendorID', 'lpep_pickup_datetime', 'lpep_dropoff_datetime',\n",
    "    'store_and_fwd_flag', 'RatecodeID', 'PULocationID', 'DOLocationID',\n",
    "    'passenger_count', 'trip_distance', 'fare_amount', 'extra', 'mta_tax',\n",
    "    'tip_amount', 'tolls_amount', 'ehail_fee', 'improvement_surcharge',\n",
    "    'total_amount', 'payment_type', 'trip_type', 'congestion_surcharge']\n",
    "\n",
    "actual_cols=df_raw.columns\n",
    "missing_cols=set(expected_cols)-set(actual_cols)\n",
    "unexpect_cols=set(actual_cols)-set(expected_cols)\n",
    "\n",
    "print(\"Missing columns:\", missing_cols)\n",
    "print(\"Unexpected columns:\", unexpect_cols)"
   ]
  },
  {
   "cell_type": "code",
   "execution_count": 0,
   "metadata": {
    "application/vnd.databricks.v1+cell": {
     "cellMetadata": {
      "byteLimit": 2048000,
      "rowLimit": 10000
     },
     "inputWidgets": {},
     "nuid": "ef55ef7b-60c4-41b8-9468-381501338c6a",
     "showTitle": false,
     "tableResultSettingsMap": {},
     "title": ""
    }
   },
   "outputs": [],
   "source": [
    "# check essential column existence\n",
    "required_columns = [\n",
    "    'VendorID', 'lpep_pickup_datetime', 'lpep_dropoff_datetime',\n",
    "    'RatecodeID', 'PULocationID', 'DOLocationID',\n",
    "    'passenger_count', 'trip_distance', 'fare_amount', 'payment_type'\n",
    "]\n",
    "\n",
    "missing_columns = [col for col in required_columns if col not in df_raw.columns]\n",
    "if missing_columns:\n",
    "    print(\"Missing required columns:\", missing_columns)\n",
    "else:\n",
    "    print(\"All required columns are present.\")"
   ]
  },
  {
   "cell_type": "code",
   "execution_count": 0,
   "metadata": {
    "application/vnd.databricks.v1+cell": {
     "cellMetadata": {
      "byteLimit": 2048000,
      "rowLimit": 10000
     },
     "inputWidgets": {},
     "nuid": "3e29e610-1ddd-4bd9-b362-f07d24d46313",
     "showTitle": false,
     "tableResultSettingsMap": {},
     "title": ""
    }
   },
   "outputs": [],
   "source": [
    "# null check for logging purpose\n",
    "null_counts = df_raw.select([\n",
    "    sum(when(col(c).isNull(), 1).otherwise(0)).alias(f\"{c}_null_count\")\n",
    "    for c in df_raw.columns\n",
    "])\n",
    "null_counts.show()"
   ]
  },
  {
   "cell_type": "code",
   "execution_count": 0,
   "metadata": {
    "application/vnd.databricks.v1+cell": {
     "cellMetadata": {
      "byteLimit": 2048000,
      "rowLimit": 10000
     },
     "inputWidgets": {},
     "nuid": "50ff34da-31c8-4cb3-bada-ce525d9d8ee2",
     "showTitle": false,
     "tableResultSettingsMap": {},
     "title": ""
    }
   },
   "outputs": [],
   "source": [
    "# adding metadata to bronze data for traceability and debugging\n",
    "df_bronze=df_raw.withColumn('ingestion_date',current_date()) \\\n",
    "    .withColumn('source_file',df_raw['_metadata.file_path'])\n",
    "df_bronze.display()"
   ]
  },
  {
   "cell_type": "code",
   "execution_count": 0,
   "metadata": {
    "application/vnd.databricks.v1+cell": {
     "cellMetadata": {
      "byteLimit": 2048000,
      "rowLimit": 10000
     },
     "inputWidgets": {},
     "nuid": "ab9ca2c0-28d3-487c-90ea-a74ed606e2f0",
     "showTitle": false,
     "tableResultSettingsMap": {},
     "title": ""
    }
   },
   "outputs": [],
   "source": [
    "# logging duplicates\n",
    "total_count = df_bronze.count()\n",
    "distinct_count = df_bronze.distinct().count()\n",
    "\n",
    "print(f\"Total rows: {total_count}\")\n",
    "print(f\"Distinct rows: {distinct_count}\")\n",
    "print(f\"Duplicate rows: {total_count - distinct_count}\")"
   ]
  },
  {
   "cell_type": "code",
   "execution_count": 0,
   "metadata": {
    "application/vnd.databricks.v1+cell": {
     "cellMetadata": {
      "byteLimit": 2048000,
      "rowLimit": 10000
     },
     "inputWidgets": {},
     "nuid": "ed2971b1-5bba-4a4c-a890-adf08563f36c",
     "showTitle": false,
     "tableResultSettingsMap": {},
     "title": ""
    }
   },
   "outputs": [],
   "source": [
    "# writing bronze data to bronze zone\n",
    "df_bronze.write.mode('overwrite').format('delta').saveAsTable('nyc_taxi.nyc_schema.bronze')"
   ]
  }
 ],
 "metadata": {
  "application/vnd.databricks.v1+notebook": {
   "computePreferences": null,
   "dashboards": [],
   "environmentMetadata": {
    "base_environment": "",
    "environment_version": "2"
   },
   "inputWidgetPreferences": null,
   "language": "python",
   "notebookMetadata": {
    "mostRecentlyExecutedCommandWithImplicitDF": {
     "commandId": 8309858908232340,
     "dataframes": [
      "_sqldf"
     ]
    },
    "pythonIndentUnit": 4
   },
   "notebookName": "bronze",
   "widgets": {}
  },
  "language_info": {
   "name": "python"
  }
 },
 "nbformat": 4,
 "nbformat_minor": 0
}
